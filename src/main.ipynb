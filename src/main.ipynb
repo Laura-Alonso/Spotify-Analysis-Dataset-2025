{
 "cells": [
  {
   "cell_type": "markdown",
   "id": "9c7e60ce",
   "metadata": {},
   "source": [
    "# 1. **Introduction**\n",
    "\n",
    "The aim of this project is predict whether a Spotify user will churn (cancel subscription) or remain active.\n"
   ]
  },
  {
   "cell_type": "markdown",
   "id": "d5be6c19",
   "metadata": {},
   "source": [
    "# 2. **Configuration**\n",
    "\n",
    "Set libraries and download data"
   ]
  },
  {
   "cell_type": "code",
   "execution_count": 8,
   "id": "ee08ac4b",
   "metadata": {},
   "outputs": [],
   "source": [
    "import kagglehub\n",
    "import os\n",
    "import polars as pl"
   ]
  },
  {
   "cell_type": "code",
   "execution_count": 35,
   "id": "770f206e",
   "metadata": {},
   "outputs": [
    {
     "data": {
      "text/html": [
       "<div><style>\n",
       ".dataframe > thead > tr,\n",
       ".dataframe > tbody > tr {\n",
       "  text-align: right;\n",
       "  white-space: pre-wrap;\n",
       "}\n",
       "</style>\n",
       "<small>shape: (5, 12)</small><table border=\"1\" class=\"dataframe\"><thead><tr><th>user_id</th><th>gender</th><th>age</th><th>country</th><th>subscription_type</th><th>listening_time</th><th>songs_played_per_day</th><th>skip_rate</th><th>device_type</th><th>ads_listened_per_week</th><th>offline_listening</th><th>is_churned</th></tr><tr><td>i64</td><td>str</td><td>i64</td><td>str</td><td>str</td><td>i64</td><td>i64</td><td>f64</td><td>str</td><td>i64</td><td>i64</td><td>i64</td></tr></thead><tbody><tr><td>1</td><td>&quot;Female&quot;</td><td>54</td><td>&quot;CA&quot;</td><td>&quot;Free&quot;</td><td>26</td><td>23</td><td>0.2</td><td>&quot;Desktop&quot;</td><td>31</td><td>0</td><td>1</td></tr><tr><td>2</td><td>&quot;Other&quot;</td><td>33</td><td>&quot;DE&quot;</td><td>&quot;Family&quot;</td><td>141</td><td>62</td><td>0.34</td><td>&quot;Web&quot;</td><td>0</td><td>1</td><td>0</td></tr><tr><td>3</td><td>&quot;Male&quot;</td><td>38</td><td>&quot;AU&quot;</td><td>&quot;Premium&quot;</td><td>199</td><td>38</td><td>0.04</td><td>&quot;Mobile&quot;</td><td>0</td><td>1</td><td>1</td></tr><tr><td>4</td><td>&quot;Female&quot;</td><td>22</td><td>&quot;CA&quot;</td><td>&quot;Student&quot;</td><td>36</td><td>2</td><td>0.31</td><td>&quot;Mobile&quot;</td><td>0</td><td>1</td><td>0</td></tr><tr><td>5</td><td>&quot;Other&quot;</td><td>29</td><td>&quot;US&quot;</td><td>&quot;Family&quot;</td><td>250</td><td>57</td><td>0.36</td><td>&quot;Mobile&quot;</td><td>0</td><td>1</td><td>1</td></tr></tbody></table></div>"
      ],
      "text/plain": [
       "shape: (5, 12)\n",
       "┌─────────┬────────┬─────┬─────────┬───┬─────────────┬────────────────┬───────────────┬────────────┐\n",
       "│ user_id ┆ gender ┆ age ┆ country ┆ … ┆ device_type ┆ ads_listened_p ┆ offline_liste ┆ is_churned │\n",
       "│ ---     ┆ ---    ┆ --- ┆ ---     ┆   ┆ ---         ┆ er_week        ┆ ning          ┆ ---        │\n",
       "│ i64     ┆ str    ┆ i64 ┆ str     ┆   ┆ str         ┆ ---            ┆ ---           ┆ i64        │\n",
       "│         ┆        ┆     ┆         ┆   ┆             ┆ i64            ┆ i64           ┆            │\n",
       "╞═════════╪════════╪═════╪═════════╪═══╪═════════════╪════════════════╪═══════════════╪════════════╡\n",
       "│ 1       ┆ Female ┆ 54  ┆ CA      ┆ … ┆ Desktop     ┆ 31             ┆ 0             ┆ 1          │\n",
       "│ 2       ┆ Other  ┆ 33  ┆ DE      ┆ … ┆ Web         ┆ 0              ┆ 1             ┆ 0          │\n",
       "│ 3       ┆ Male   ┆ 38  ┆ AU      ┆ … ┆ Mobile      ┆ 0              ┆ 1             ┆ 1          │\n",
       "│ 4       ┆ Female ┆ 22  ┆ CA      ┆ … ┆ Mobile      ┆ 0              ┆ 1             ┆ 0          │\n",
       "│ 5       ┆ Other  ┆ 29  ┆ US      ┆ … ┆ Mobile      ┆ 0              ┆ 1             ┆ 1          │\n",
       "└─────────┴────────┴─────┴─────────┴───┴─────────────┴────────────────┴───────────────┴────────────┘"
      ]
     },
     "execution_count": 35,
     "metadata": {},
     "output_type": "execute_result"
    }
   ],
   "source": [
    "# Download data\n",
    "path = kagglehub.dataset_download(\"nabihazahid/spotify-dataset-for-churn-analysis\")\n",
    "\n",
    "df_raw = pl.read_csv(f\"{path}/spotify_churn_dataset.csv\")\n",
    "df_raw.head()"
   ]
  },
  {
   "cell_type": "code",
   "execution_count": 41,
   "id": "f886a529",
   "metadata": {},
   "outputs": [],
   "source": [
    "# Set the correct type for each column\n",
    "df_raw = df_raw.with_columns(\n",
    "    pl.col(\"user_id\").cast(pl.String),\n",
    "    pl.col(\"gender\",\"country\", \"subscription_type\",\"device_type\").cast(pl.Categorical),\n",
    "    pl.col(\"offline_listening\", \"is_churned\").cast(pl.Boolean),\n",
    ")\n",
    "\n",
    "quantitative_cols = [c for c, dt in zip(df_raw.columns, df_raw.dtypes) if dt == pl.Int64]\n",
    "string_cols = [c for c, dt in zip(df_raw.columns, df_raw.dtypes) if dt == pl.String]\n",
    "categorical_cols = [c for c, dt in zip(df_raw.columns, df_raw.dtypes) if dt == pl.Categorical]\n",
    "boolean_cols = [c for c, dt in zip(df_raw.columns, df_raw.dtypes) if dt == pl.Boolean]\n",
    "\n"
   ]
  },
  {
   "cell_type": "markdown",
   "id": "66e2d8cf",
   "metadata": {},
   "source": [
    "# 3. **Exploratory Data Analysis (EDA)**"
   ]
  },
  {
   "cell_type": "markdown",
   "id": "82267acf",
   "metadata": {},
   "source": [
    "## A. **General**\n",
    "\n",
    "All rows have information in all columns. 2071 users (of 8000) are target as churned."
   ]
  },
  {
   "cell_type": "code",
   "execution_count": 14,
   "id": "02e01e8f",
   "metadata": {},
   "outputs": [
    {
     "data": {
      "text/html": [
       "<div><style>\n",
       ".dataframe > thead > tr,\n",
       ".dataframe > tbody > tr {\n",
       "  text-align: right;\n",
       "  white-space: pre-wrap;\n",
       "}\n",
       "</style>\n",
       "<small>shape: (1, 12)</small><table border=\"1\" class=\"dataframe\"><thead><tr><th>user_id</th><th>gender</th><th>age</th><th>country</th><th>subscription_type</th><th>listening_time</th><th>songs_played_per_day</th><th>skip_rate</th><th>device_type</th><th>ads_listened_per_week</th><th>offline_listening</th><th>is_churned</th></tr><tr><td>u32</td><td>u32</td><td>u32</td><td>u32</td><td>u32</td><td>u32</td><td>u32</td><td>u32</td><td>u32</td><td>u32</td><td>u32</td><td>u32</td></tr></thead><tbody><tr><td>0</td><td>0</td><td>0</td><td>0</td><td>0</td><td>0</td><td>0</td><td>0</td><td>0</td><td>0</td><td>0</td><td>0</td></tr></tbody></table></div>"
      ],
      "text/plain": [
       "shape: (1, 12)\n",
       "┌─────────┬────────┬─────┬─────────┬───┬─────────────┬────────────────┬───────────────┬────────────┐\n",
       "│ user_id ┆ gender ┆ age ┆ country ┆ … ┆ device_type ┆ ads_listened_p ┆ offline_liste ┆ is_churned │\n",
       "│ ---     ┆ ---    ┆ --- ┆ ---     ┆   ┆ ---         ┆ er_week        ┆ ning          ┆ ---        │\n",
       "│ u32     ┆ u32    ┆ u32 ┆ u32     ┆   ┆ u32         ┆ ---            ┆ ---           ┆ u32        │\n",
       "│         ┆        ┆     ┆         ┆   ┆             ┆ u32            ┆ u32           ┆            │\n",
       "╞═════════╪════════╪═════╪═════════╪═══╪═════════════╪════════════════╪═══════════════╪════════════╡\n",
       "│ 0       ┆ 0      ┆ 0   ┆ 0       ┆ … ┆ 0           ┆ 0              ┆ 0             ┆ 0          │\n",
       "└─────────┴────────┴─────┴─────────┴───┴─────────────┴────────────────┴───────────────┴────────────┘"
      ]
     },
     "execution_count": 14,
     "metadata": {},
     "output_type": "execute_result"
    }
   ],
   "source": [
    "# Check nulls\n",
    "df_raw.null_count()"
   ]
  },
  {
   "cell_type": "code",
   "execution_count": null,
   "id": "3562d74c",
   "metadata": {},
   "outputs": [
    {
     "data": {
      "text/html": [
       "<div><style>\n",
       ".dataframe > thead > tr,\n",
       ".dataframe > tbody > tr {\n",
       "  text-align: right;\n",
       "  white-space: pre-wrap;\n",
       "}\n",
       "</style>\n",
       "<small>shape: (2, 2)</small><table border=\"1\" class=\"dataframe\"><thead><tr><th>is_churned</th><th>count</th></tr><tr><td>i64</td><td>u32</td></tr></thead><tbody><tr><td>1</td><td>2071</td></tr><tr><td>0</td><td>5929</td></tr></tbody></table></div>"
      ],
      "text/plain": [
       "shape: (2, 2)\n",
       "┌────────────┬───────┐\n",
       "│ is_churned ┆ count │\n",
       "│ ---        ┆ ---   │\n",
       "│ i64        ┆ u32   │\n",
       "╞════════════╪═══════╡\n",
       "│ 1          ┆ 2071  │\n",
       "│ 0          ┆ 5929  │\n",
       "└────────────┴───────┘"
      ]
     },
     "execution_count": 15,
     "metadata": {},
     "output_type": "execute_result"
    }
   ],
   "source": [
    "# Target variable distribution\n",
    "df_raw[\"is_churned\"].value_counts()"
   ]
  },
  {
   "cell_type": "markdown",
   "id": "f00f788d",
   "metadata": {},
   "source": [
    "## B. Numerical variables"
   ]
  },
  {
   "cell_type": "code",
   "execution_count": null,
   "id": "b5631864",
   "metadata": {},
   "outputs": [
    {
     "data": {
      "text/html": [
       "<div><style>\n",
       ".dataframe > thead > tr,\n",
       ".dataframe > tbody > tr {\n",
       "  text-align: right;\n",
       "  white-space: pre-wrap;\n",
       "}\n",
       "</style>\n",
       "<small>shape: (9, 5)</small><table border=\"1\" class=\"dataframe\"><thead><tr><th>statistic</th><th>age</th><th>listening_time</th><th>songs_played_per_day</th><th>ads_listened_per_week</th></tr><tr><td>str</td><td>f64</td><td>f64</td><td>f64</td><td>f64</td></tr></thead><tbody><tr><td>&quot;count&quot;</td><td>8000.0</td><td>8000.0</td><td>8000.0</td><td>8000.0</td></tr><tr><td>&quot;null_count&quot;</td><td>0.0</td><td>0.0</td><td>0.0</td><td>0.0</td></tr><tr><td>&quot;mean&quot;</td><td>37.662125</td><td>154.06825</td><td>50.12725</td><td>6.943875</td></tr><tr><td>&quot;std&quot;</td><td>12.740359</td><td>84.015596</td><td>28.449762</td><td>13.617953</td></tr><tr><td>&quot;min&quot;</td><td>16.0</td><td>10.0</td><td>1.0</td><td>0.0</td></tr><tr><td>&quot;25%&quot;</td><td>26.0</td><td>81.0</td><td>25.0</td><td>0.0</td></tr><tr><td>&quot;50%&quot;</td><td>38.0</td><td>154.0</td><td>50.0</td><td>0.0</td></tr><tr><td>&quot;75%&quot;</td><td>49.0</td><td>227.0</td><td>75.0</td><td>5.0</td></tr><tr><td>&quot;max&quot;</td><td>59.0</td><td>299.0</td><td>99.0</td><td>49.0</td></tr></tbody></table></div>"
      ],
      "text/plain": [
       "shape: (9, 5)\n",
       "┌────────────┬───────────┬────────────────┬──────────────────────┬───────────────────────┐\n",
       "│ statistic  ┆ age       ┆ listening_time ┆ songs_played_per_day ┆ ads_listened_per_week │\n",
       "│ ---        ┆ ---       ┆ ---            ┆ ---                  ┆ ---                   │\n",
       "│ str        ┆ f64       ┆ f64            ┆ f64                  ┆ f64                   │\n",
       "╞════════════╪═══════════╪════════════════╪══════════════════════╪═══════════════════════╡\n",
       "│ count      ┆ 8000.0    ┆ 8000.0         ┆ 8000.0               ┆ 8000.0                │\n",
       "│ null_count ┆ 0.0       ┆ 0.0            ┆ 0.0                  ┆ 0.0                   │\n",
       "│ mean       ┆ 37.662125 ┆ 154.06825      ┆ 50.12725             ┆ 6.943875              │\n",
       "│ std        ┆ 12.740359 ┆ 84.015596      ┆ 28.449762            ┆ 13.617953             │\n",
       "│ min        ┆ 16.0      ┆ 10.0           ┆ 1.0                  ┆ 0.0                   │\n",
       "│ 25%        ┆ 26.0      ┆ 81.0           ┆ 25.0                 ┆ 0.0                   │\n",
       "│ 50%        ┆ 38.0      ┆ 154.0          ┆ 50.0                 ┆ 0.0                   │\n",
       "│ 75%        ┆ 49.0      ┆ 227.0          ┆ 75.0                 ┆ 5.0                   │\n",
       "│ max        ┆ 59.0      ┆ 299.0          ┆ 99.0                 ┆ 49.0                  │\n",
       "└────────────┴───────────┴────────────────┴──────────────────────┴───────────────────────┘"
      ]
     },
     "execution_count": 39,
     "metadata": {},
     "output_type": "execute_result"
    }
   ],
   "source": [
    "df_raw.select(quantitative_cols).describe()"
   ]
  },
  {
   "cell_type": "code",
   "execution_count": 46,
   "id": "3eb71b2f",
   "metadata": {},
   "outputs": [
    {
     "data": {
      "text/html": [
       "<div><style>\n",
       ".dataframe > thead > tr,\n",
       ".dataframe > tbody > tr {\n",
       "  text-align: right;\n",
       "  white-space: pre-wrap;\n",
       "}\n",
       "</style>\n",
       "<small>shape: (2, 9)</small><table border=\"1\" class=\"dataframe\"><thead><tr><th>is_churned</th><th>age_mean</th><th>listening_time_mean</th><th>songs_played_per_day_mean</th><th>ads_listened_per_week_mean</th><th>age_median</th><th>listening_time_median</th><th>songs_played_per_day_median</th><th>ads_listened_per_week_median</th></tr><tr><td>bool</td><td>f64</td><td>f64</td><td>f64</td><td>f64</td><td>f64</td><td>f64</td><td>f64</td><td>f64</td></tr></thead><tbody><tr><td>false</td><td>37.632</td><td>154.447</td><td>49.971</td><td>6.962</td><td>38.0</td><td>155.0</td><td>50.0</td><td>0.0</td></tr><tr><td>true</td><td>37.748</td><td>152.985</td><td>50.576</td><td>6.891</td><td>38.0</td><td>153.0</td><td>52.0</td><td>0.0</td></tr></tbody></table></div>"
      ],
      "text/plain": [
       "shape: (2, 9)\n",
       "┌───────────┬──────────┬───────────┬───────────┬───┬───────────┬───────────┬───────────┬───────────┐\n",
       "│ is_churne ┆ age_mean ┆ listening ┆ songs_pla ┆ … ┆ age_media ┆ listening ┆ songs_pla ┆ ads_liste │\n",
       "│ d         ┆ ---      ┆ _time_mea ┆ yed_per_d ┆   ┆ n         ┆ _time_med ┆ yed_per_d ┆ ned_per_w │\n",
       "│ ---       ┆ f64      ┆ n         ┆ ay_mean   ┆   ┆ ---       ┆ ian       ┆ ay_median ┆ eek_media │\n",
       "│ bool      ┆          ┆ ---       ┆ ---       ┆   ┆ f64       ┆ ---       ┆ ---       ┆ n         │\n",
       "│           ┆          ┆ f64       ┆ f64       ┆   ┆           ┆ f64       ┆ f64       ┆ ---       │\n",
       "│           ┆          ┆           ┆           ┆   ┆           ┆           ┆           ┆ f64       │\n",
       "╞═══════════╪══════════╪═══════════╪═══════════╪═══╪═══════════╪═══════════╪═══════════╪═══════════╡\n",
       "│ false     ┆ 37.632   ┆ 154.447   ┆ 49.971    ┆ … ┆ 38.0      ┆ 155.0     ┆ 50.0      ┆ 0.0       │\n",
       "│ true      ┆ 37.748   ┆ 152.985   ┆ 50.576    ┆ … ┆ 38.0      ┆ 153.0     ┆ 52.0      ┆ 0.0       │\n",
       "└───────────┴──────────┴───────────┴───────────┴───┴───────────┴───────────┴───────────┴───────────┘"
      ]
     },
     "execution_count": 46,
     "metadata": {},
     "output_type": "execute_result"
    }
   ],
   "source": [
    "df_raw.group_by(\"is_churned\").agg(\n",
    "    [\n",
    "        *[pl.col(c).mean().round(3).alias(f\"{c}_mean\") for c in quantitative_cols],\n",
    "        *[pl.col(c).median().round(3).alias(f\"{c}_median\") for c in quantitative_cols],\n",
    "    ]\n",
    ")"
   ]
  },
  {
   "cell_type": "code",
   "execution_count": 49,
   "id": "264c995f",
   "metadata": {},
   "outputs": [
    {
     "ename": "ModuleNotFoundError",
     "evalue": "pa.Table requires 'pyarrow' module to be installed",
     "output_type": "error",
     "traceback": [
      "\u001b[31m---------------------------------------------------------------------------\u001b[39m",
      "\u001b[31mModuleNotFoundError\u001b[39m                       Traceback (most recent call last)",
      "\u001b[36mCell\u001b[39m\u001b[36m \u001b[39m\u001b[32mIn[49]\u001b[39m\u001b[32m, line 4\u001b[39m\n\u001b[32m      1\u001b[39m \u001b[38;5;28;01mimport\u001b[39;00m\u001b[38;5;250m \u001b[39m\u001b[34;01mmatplotlib\u001b[39;00m\u001b[34;01m.\u001b[39;00m\u001b[34;01mpyplot\u001b[39;00m\u001b[38;5;250m \u001b[39m\u001b[38;5;28;01mas\u001b[39;00m\u001b[38;5;250m \u001b[39m\u001b[34;01mplt\u001b[39;00m\n\u001b[32m      3\u001b[39m \u001b[38;5;66;03m# Ejemplo con minutes_played\u001b[39;00m\n\u001b[32m----> \u001b[39m\u001b[32m4\u001b[39m \u001b[43mdf_raw\u001b[49m\u001b[43m.\u001b[49m\u001b[43mselect\u001b[49m\u001b[43m(\u001b[49m\u001b[33;43m\"\u001b[39;49m\u001b[33;43mage\u001b[39;49m\u001b[33;43m\"\u001b[39;49m\u001b[43m)\u001b[49m\u001b[43m.\u001b[49m\u001b[43mto_pandas\u001b[49m\u001b[43m(\u001b[49m\u001b[43m)\u001b[49m.boxplot()\n\u001b[32m      5\u001b[39m plt.title(\u001b[33m\"\u001b[39m\u001b[33mOutliers in minutes_played\u001b[39m\u001b[33m\"\u001b[39m)\n\u001b[32m      6\u001b[39m plt.show()\n",
      "\u001b[36mFile \u001b[39m\u001b[32mc:\\Users\\arual\\Desktop\\projects\\Spotify-Analysis-Dataset-2025\\env\\Lib\\site-packages\\polars\\dataframe\\frame.py:2561\u001b[39m, in \u001b[36mDataFrame.to_pandas\u001b[39m\u001b[34m(self, use_pyarrow_extension_array, **kwargs)\u001b[39m\n\u001b[32m   2556\u001b[39m \u001b[38;5;28;01mif\u001b[39;00m Object \u001b[38;5;129;01min\u001b[39;00m \u001b[38;5;28mself\u001b[39m.dtypes:\n\u001b[32m   2557\u001b[39m     \u001b[38;5;28;01mreturn\u001b[39;00m \u001b[38;5;28mself\u001b[39m._to_pandas_with_object_columns(\n\u001b[32m   2558\u001b[39m         use_pyarrow_extension_array=use_pyarrow_extension_array, **kwargs\n\u001b[32m   2559\u001b[39m     )\n\u001b[32m-> \u001b[39m\u001b[32m2561\u001b[39m \u001b[38;5;28;01mreturn\u001b[39;00m \u001b[38;5;28;43mself\u001b[39;49m\u001b[43m.\u001b[49m\u001b[43m_to_pandas_without_object_columns\u001b[49m\u001b[43m(\u001b[49m\n\u001b[32m   2562\u001b[39m \u001b[43m    \u001b[49m\u001b[38;5;28;43mself\u001b[39;49m\u001b[43m,\u001b[49m\u001b[43m \u001b[49m\u001b[43muse_pyarrow_extension_array\u001b[49m\u001b[43m=\u001b[49m\u001b[43muse_pyarrow_extension_array\u001b[49m\u001b[43m,\u001b[49m\u001b[43m \u001b[49m\u001b[43m*\u001b[49m\u001b[43m*\u001b[49m\u001b[43mkwargs\u001b[49m\n\u001b[32m   2563\u001b[39m \u001b[43m\u001b[49m\u001b[43m)\u001b[49m\n",
      "\u001b[36mFile \u001b[39m\u001b[32mc:\\Users\\arual\\Desktop\\projects\\Spotify-Analysis-Dataset-2025\\env\\Lib\\site-packages\\polars\\dataframe\\frame.py:2613\u001b[39m, in \u001b[36mDataFrame._to_pandas_without_object_columns\u001b[39m\u001b[34m(self, df, use_pyarrow_extension_array, **kwargs)\u001b[39m\n\u001b[32m   2610\u001b[39m     \u001b[38;5;28;01mreturn\u001b[39;00m pd.DataFrame()\n\u001b[32m   2612\u001b[39m record_batches = df._df.to_pandas()\n\u001b[32m-> \u001b[39m\u001b[32m2613\u001b[39m tbl = \u001b[43mpa\u001b[49m\u001b[43m.\u001b[49m\u001b[43mTable\u001b[49m.from_batches(record_batches)\n\u001b[32m   2614\u001b[39m \u001b[38;5;28;01mif\u001b[39;00m use_pyarrow_extension_array:\n\u001b[32m   2615\u001b[39m     \u001b[38;5;28;01mreturn\u001b[39;00m tbl.to_pandas(\n\u001b[32m   2616\u001b[39m         self_destruct=\u001b[38;5;28;01mTrue\u001b[39;00m,\n\u001b[32m   2617\u001b[39m         split_blocks=\u001b[38;5;28;01mTrue\u001b[39;00m,\n\u001b[32m   2618\u001b[39m         types_mapper=\u001b[38;5;28;01mlambda\u001b[39;00m pa_dtype: pd.ArrowDtype(pa_dtype),\n\u001b[32m   2619\u001b[39m         **kwargs,\n\u001b[32m   2620\u001b[39m     )\n",
      "\u001b[36mFile \u001b[39m\u001b[32mc:\\Users\\arual\\Desktop\\projects\\Spotify-Analysis-Dataset-2025\\env\\Lib\\site-packages\\polars\\dependencies.py:102\u001b[39m, in \u001b[36m_LazyModule.__getattr__\u001b[39m\u001b[34m(self, name)\u001b[39m\n\u001b[32m    100\u001b[39m pfx = \u001b[38;5;28mself\u001b[39m._mod_pfx.get(\u001b[38;5;28mself\u001b[39m._module_name, \u001b[33m\"\u001b[39m\u001b[33m\"\u001b[39m)\n\u001b[32m    101\u001b[39m msg = \u001b[33mf\u001b[39m\u001b[33m\"\u001b[39m\u001b[38;5;132;01m{\u001b[39;00mpfx\u001b[38;5;132;01m}\u001b[39;00m\u001b[38;5;132;01m{\u001b[39;00mname\u001b[38;5;132;01m}\u001b[39;00m\u001b[33m requires \u001b[39m\u001b[38;5;132;01m{\u001b[39;00m\u001b[38;5;28mself\u001b[39m._module_name\u001b[38;5;132;01m!r}\u001b[39;00m\u001b[33m module to be installed\u001b[39m\u001b[33m\"\u001b[39m\n\u001b[32m--> \u001b[39m\u001b[32m102\u001b[39m \u001b[38;5;28;01mraise\u001b[39;00m \u001b[38;5;167;01mModuleNotFoundError\u001b[39;00m(msg) \u001b[38;5;28;01mfrom\u001b[39;00m\u001b[38;5;250m \u001b[39m\u001b[38;5;28;01mNone\u001b[39;00m\n",
      "\u001b[31mModuleNotFoundError\u001b[39m: pa.Table requires 'pyarrow' module to be installed"
     ]
    }
   ],
   "source": [
    "import matplotlib.pyplot as plt\n",
    "\n",
    "# Ejemplo con minutes_played\n",
    "df_raw.select(\"age\").to_pandas().boxplot()\n",
    "plt.title(\"Outliers in minutes_played\")\n",
    "plt.show()"
   ]
  }
 ],
 "metadata": {
  "kernelspec": {
   "display_name": "env",
   "language": "python",
   "name": "python3"
  },
  "language_info": {
   "codemirror_mode": {
    "name": "ipython",
    "version": 3
   },
   "file_extension": ".py",
   "mimetype": "text/x-python",
   "name": "python",
   "nbconvert_exporter": "python",
   "pygments_lexer": "ipython3",
   "version": "3.13.2"
  }
 },
 "nbformat": 4,
 "nbformat_minor": 5
}
